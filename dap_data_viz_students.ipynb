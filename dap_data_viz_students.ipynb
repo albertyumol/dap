{
 "cells": [
  {
   "cell_type": "markdown",
   "metadata": {
    "id": "rAnmR2nnP_BV"
   },
   "source": [
    "# Introduction to Data Visualization in Python"
   ]
  },
  {
   "cell_type": "markdown",
   "metadata": {
    "id": "XmRCE0cyP_Bd"
   },
   "source": [
    "## Import Datasets"
   ]
  },
  {
   "cell_type": "markdown",
   "metadata": {
    "id": "rx2BeHghP_Bf"
   },
   "source": [
    "We are going to use two datasets in this tutorial. The [Iris](https://archive.ics.uci.edu/ml/datasets/iris) and the [Wine Reviews](https://www.kaggle.com/zynicide/wine-reviews) dataset."
   ]
  },
  {
   "cell_type": "code",
   "execution_count": null,
   "metadata": {
    "ExecuteTime": {
     "end_time": "2022-07-19T04:03:17.537809Z",
     "start_time": "2022-07-19T04:03:05.245852Z"
    },
    "id": "tqFoktRXP_Bg"
   },
   "outputs": [],
   "source": []
  },
  {
   "cell_type": "code",
   "execution_count": null,
   "metadata": {
    "ExecuteTime": {
     "end_time": "2022-07-19T04:03:22.292436Z",
     "start_time": "2022-07-19T04:03:22.271988Z"
    },
    "colab": {
     "base_uri": "https://localhost:8080/",
     "height": 206
    },
    "id": "7XNmV3LmP_Bh",
    "outputId": "2317e578-a347-411e-b485-9cd5459275b6"
   },
   "outputs": [],
   "source": []
  },
  {
   "cell_type": "code",
   "execution_count": null,
   "metadata": {
    "ExecuteTime": {
     "end_time": "2022-07-19T04:03:25.903019Z",
     "start_time": "2022-07-19T04:03:25.108619Z"
    },
    "colab": {
     "base_uri": "https://localhost:8080/",
     "height": 449
    },
    "id": "cUYBCXfBP_Bk",
    "outputId": "5b0016a3-7045-48d7-9ac8-c0341145fdef"
   },
   "outputs": [],
   "source": []
  },
  {
   "cell_type": "markdown",
   "metadata": {
    "id": "6Pr5HjdNP_Bk"
   },
   "source": [
    "## Matplotlib"
   ]
  },
  {
   "cell_type": "markdown",
   "metadata": {
    "id": "qx7SimgmP_Bl"
   },
   "source": [
    "Matplotlib is a Python plotting libary."
   ]
  },
  {
   "cell_type": "code",
   "execution_count": null,
   "metadata": {
    "ExecuteTime": {
     "end_time": "2022-07-19T04:03:29.237364Z",
     "start_time": "2022-07-19T04:03:29.234470Z"
    },
    "id": "kR_8u4TSP_Bm"
   },
   "outputs": [],
   "source": []
  },
  {
   "cell_type": "markdown",
   "metadata": {
    "id": "7FJJ8ocMP_Bm"
   },
   "source": [
    "### Scatter plot"
   ]
  },
  {
   "cell_type": "code",
   "execution_count": null,
   "metadata": {
    "ExecuteTime": {
     "end_time": "2022-07-19T04:03:30.091675Z",
     "start_time": "2022-07-19T04:03:29.955564Z"
    },
    "colab": {
     "base_uri": "https://localhost:8080/",
     "height": 313
    },
    "id": "DQz-oucOP_Bp",
    "outputId": "d3589ead-d20f-4cb6-da37-de886b1b687b"
   },
   "outputs": [],
   "source": [
    "# create a figure and axis\n",
    "\n",
    "\n",
    "# scatter the sepal_length against the sepal_width\n",
    "\n",
    "# set a title and labels\n"
   ]
  },
  {
   "cell_type": "markdown",
   "metadata": {
    "id": "5l9N9I89P_Bq"
   },
   "source": [
    "We can color each point by class"
   ]
  },
  {
   "cell_type": "code",
   "execution_count": null,
   "metadata": {
    "ExecuteTime": {
     "end_time": "2022-07-19T04:03:32.576667Z",
     "start_time": "2022-07-19T04:03:32.150539Z"
    },
    "colab": {
     "base_uri": "https://localhost:8080/",
     "height": 313
    },
    "id": "qYIO6dkGP_Bq",
    "outputId": "d1e4c467-dd69-4d3a-effb-9ca6aeed14ec"
   },
   "outputs": [],
   "source": [
    "colors = {'Iris-setosa':'r', 'Iris-versicolor':'g', 'Iris-virginica':'b'}\n",
    "fig, ax = plt.subplots()\n",
    "for i in range(len(iris['sepal_length'])):\n",
    "    ax.scatter(iris['sepal_length'][i], iris['sepal_width'][i],color=colors[iris['class'][i]])\n",
    "ax.set_title('Iris Dataset')\n",
    "ax.set_xlabel('sepal_length')\n",
    "ax.set_ylabel('sepal_width')"
   ]
  },
  {
   "cell_type": "markdown",
   "metadata": {
    "id": "IbdmSxQHP_Br"
   },
   "source": [
    "### Line Chart"
   ]
  },
  {
   "cell_type": "code",
   "execution_count": null,
   "metadata": {
    "ExecuteTime": {
     "end_time": "2022-07-19T04:03:32.731389Z",
     "start_time": "2022-07-19T04:03:32.725391Z"
    },
    "colab": {
     "base_uri": "https://localhost:8080/"
    },
    "id": "dsVW6crXP_Bs",
    "outputId": "75395103-7fbd-4598-ac4f-b27f491ee358"
   },
   "outputs": [],
   "source": [
    "iris.shape[0]"
   ]
  },
  {
   "cell_type": "code",
   "execution_count": null,
   "metadata": {
    "ExecuteTime": {
     "end_time": "2022-07-19T04:03:33.110568Z",
     "start_time": "2022-07-19T04:03:32.973966Z"
    },
    "colab": {
     "base_uri": "https://localhost:8080/",
     "height": 316
    },
    "id": "Ziym_zf5P_Bt",
    "outputId": "a069b87c-230b-4776-f6cf-080305c3c0b7"
   },
   "outputs": [],
   "source": [
    "columns = iris.columns.drop(['class'])\n",
    "x_data = range(0, iris.shape[0])\n",
    "fig, ax = plt.subplots()\n",
    "for column in columns:\n",
    "    ax.plot(x_data, iris[column])\n",
    "ax.set_title('Iris Dataset')\n",
    "ax.legend()"
   ]
  },
  {
   "cell_type": "markdown",
   "metadata": {
    "id": "0x8SgMOtP_Bt"
   },
   "source": [
    "### Histogram"
   ]
  },
  {
   "cell_type": "code",
   "execution_count": null,
   "metadata": {
    "ExecuteTime": {
     "end_time": "2022-07-19T04:03:33.565007Z",
     "start_time": "2022-07-19T04:03:33.389816Z"
    },
    "colab": {
     "base_uri": "https://localhost:8080/",
     "height": 312
    },
    "id": "5981ZWlSP_Bu",
    "outputId": "c1f7085e-7749-4937-d85d-edf5e3a1e82d"
   },
   "outputs": [],
   "source": [
    "fig, ax = plt.subplots()\n",
    "ax.hist(wine_reviews['points'])\n",
    "ax.set_title('Wine Review Scores')\n",
    "ax.set_xlabel('Points')\n",
    "ax.set_ylabel('Frequency')"
   ]
  },
  {
   "cell_type": "markdown",
   "metadata": {
    "id": "gf_qqb8pP_Bv"
   },
   "source": [
    "### Bar Chart"
   ]
  },
  {
   "cell_type": "code",
   "execution_count": null,
   "metadata": {
    "ExecuteTime": {
     "end_time": "2022-07-19T04:03:33.955557Z",
     "start_time": "2022-07-19T04:03:33.824193Z"
    },
    "colab": {
     "base_uri": "https://localhost:8080/",
     "height": 312
    },
    "id": "ABBXCJbLP_Bv",
    "outputId": "87110239-bdb2-4539-a7f3-d3360ad4ffcb"
   },
   "outputs": [],
   "source": [
    "fig, ax = plt.subplots()\n",
    "data = wine_reviews['points'].value_counts()\n",
    "points = data.index\n",
    "frequency = data.values\n",
    "ax.bar(points, frequency)\n",
    "ax.set_title('Wine Review Scores')\n",
    "ax.set_xlabel('Points')\n",
    "ax.set_ylabel('Frequency')"
   ]
  },
  {
   "cell_type": "markdown",
   "metadata": {
    "id": "n8oa4zLCP_Bv"
   },
   "source": [
    "## Pandas Visualization"
   ]
  },
  {
   "cell_type": "markdown",
   "metadata": {
    "id": "V9xZI7-mP_Bw"
   },
   "source": [
    "Pandas uses Matplotlib and makes it easy to plot Data"
   ]
  },
  {
   "cell_type": "markdown",
   "metadata": {
    "id": "7jnT9i4CP_Bw"
   },
   "source": [
    "### Scatter Plot"
   ]
  },
  {
   "cell_type": "code",
   "execution_count": null,
   "metadata": {
    "ExecuteTime": {
     "end_time": "2022-07-19T04:03:35.298188Z",
     "start_time": "2022-07-19T04:03:34.735130Z"
    },
    "colab": {
     "base_uri": "https://localhost:8080/",
     "height": 313
    },
    "id": "chF8WApsP_Bx",
    "outputId": "0042400d-7d81-49b1-94d4-994ae9ae586a"
   },
   "outputs": [],
   "source": []
  },
  {
   "cell_type": "markdown",
   "metadata": {
    "id": "q4GyjY5OP_By"
   },
   "source": [
    "### Line Chart"
   ]
  },
  {
   "cell_type": "code",
   "execution_count": null,
   "metadata": {
    "ExecuteTime": {
     "end_time": "2022-07-19T04:03:35.457483Z",
     "start_time": "2022-07-19T04:03:35.300433Z"
    },
    "colab": {
     "base_uri": "https://localhost:8080/",
     "height": 298
    },
    "id": "9KqinxCaP_By",
    "outputId": "30dd3684-b3fc-4818-8e93-90f36d89270d"
   },
   "outputs": [],
   "source": []
  },
  {
   "cell_type": "markdown",
   "metadata": {
    "id": "jzNUVRSZP_Bz"
   },
   "source": [
    "### Histogram"
   ]
  },
  {
   "cell_type": "code",
   "execution_count": null,
   "metadata": {
    "ExecuteTime": {
     "end_time": "2022-07-19T04:03:36.174247Z",
     "start_time": "2022-07-19T04:03:36.031824Z"
    },
    "colab": {
     "base_uri": "https://localhost:8080/",
     "height": 298
    },
    "id": "UE7ePP1wP_Bz",
    "outputId": "4be8e7cb-dab5-47bd-bf0d-f5bffad764ec"
   },
   "outputs": [],
   "source": []
  },
  {
   "cell_type": "code",
   "execution_count": null,
   "metadata": {
    "ExecuteTime": {
     "end_time": "2022-07-19T04:03:37.004603Z",
     "start_time": "2022-07-19T04:03:36.262148Z"
    },
    "colab": {
     "base_uri": "https://localhost:8080/",
     "height": 679
    },
    "id": "mIaRzCjaP_B0",
    "outputId": "d42110b1-3a3a-42c8-8abd-4816aed3b0d3"
   },
   "outputs": [],
   "source": []
  },
  {
   "cell_type": "markdown",
   "metadata": {
    "id": "1je_Uie5P_B0"
   },
   "source": [
    "### Bar Chart"
   ]
  },
  {
   "cell_type": "code",
   "execution_count": null,
   "metadata": {
    "ExecuteTime": {
     "end_time": "2022-07-19T04:03:37.219055Z",
     "start_time": "2022-07-19T04:03:37.006483Z"
    },
    "colab": {
     "base_uri": "https://localhost:8080/",
     "height": 291
    },
    "id": "RIVzOYieP_B1",
    "outputId": "1e49a9a1-48fe-4029-fc02-325cb31ece03"
   },
   "outputs": [],
   "source": []
  },
  {
   "cell_type": "code",
   "execution_count": null,
   "metadata": {
    "ExecuteTime": {
     "end_time": "2022-07-19T04:03:37.371795Z",
     "start_time": "2022-07-19T04:03:37.221592Z"
    },
    "colab": {
     "base_uri": "https://localhost:8080/",
     "height": 282
    },
    "id": "X-Rx6g_MP_B2",
    "outputId": "e8baf6b1-6140-4a9c-f7dd-10291554d11a"
   },
   "outputs": [],
   "source": []
  },
  {
   "cell_type": "code",
   "execution_count": null,
   "metadata": {
    "ExecuteTime": {
     "end_time": "2022-07-19T04:03:37.485971Z",
     "start_time": "2022-07-19T04:03:37.374181Z"
    },
    "colab": {
     "base_uri": "https://localhost:8080/",
     "height": 345
    },
    "id": "zkkHI2GpP_B2",
    "outputId": "75139222-b588-4aa8-a490-19ad861c94b1"
   },
   "outputs": [],
   "source": []
  },
  {
   "cell_type": "markdown",
   "metadata": {
    "id": "0WbUtPWRP_B3"
   },
   "source": [
    "## Seaborn"
   ]
  },
  {
   "cell_type": "markdown",
   "metadata": {
    "id": "DocGsxErP_B3"
   },
   "source": [
    "Seaborn is a Python data visualization library based on matplotlib. It provides a high-level interface for drawing attractive and informative statistical graphics."
   ]
  },
  {
   "cell_type": "code",
   "execution_count": null,
   "metadata": {
    "ExecuteTime": {
     "end_time": "2022-07-19T04:03:45.844880Z",
     "start_time": "2022-07-19T04:03:37.667639Z"
    },
    "colab": {
     "base_uri": "https://localhost:8080/",
     "height": 35
    },
    "id": "AG6slqIxP_B3",
    "outputId": "a5d5a861-e367-48fb-b113-e3d8c07c067a"
   },
   "outputs": [],
   "source": [
    "import seaborn as sns\n",
    "sns.__version__"
   ]
  },
  {
   "cell_type": "markdown",
   "metadata": {
    "id": "5S_h_AmdP_B3"
   },
   "source": [
    "### Scatter plot"
   ]
  },
  {
   "cell_type": "code",
   "execution_count": null,
   "metadata": {
    "ExecuteTime": {
     "end_time": "2022-07-19T04:03:45.988860Z",
     "start_time": "2022-07-19T04:03:45.847388Z"
    },
    "colab": {
     "base_uri": "https://localhost:8080/",
     "height": 300
    },
    "id": "lpjoOOoPP_B4",
    "outputId": "1478e8dc-c055-4845-a021-09bd88a26064"
   },
   "outputs": [],
   "source": []
  },
  {
   "cell_type": "markdown",
   "metadata": {
    "id": "-9mwGGHXP_B5"
   },
   "source": [
    "Highlighting the classes is significally easier than using Matplotlib. We only need to specify the hue parameter."
   ]
  },
  {
   "cell_type": "code",
   "execution_count": null,
   "metadata": {
    "ExecuteTime": {
     "end_time": "2022-07-19T04:03:46.226077Z",
     "start_time": "2022-07-19T04:03:45.991577Z"
    },
    "colab": {
     "base_uri": "https://localhost:8080/",
     "height": 300
    },
    "id": "lqqpivyYP_B5",
    "outputId": "de110e6c-d0ba-44d6-ab95-dd9de7c06100"
   },
   "outputs": [],
   "source": []
  },
  {
   "cell_type": "markdown",
   "metadata": {
    "id": "cvv0cdtZP_B6"
   },
   "source": [
    "### Line chart"
   ]
  },
  {
   "cell_type": "code",
   "execution_count": null,
   "metadata": {
    "ExecuteTime": {
     "end_time": "2022-07-19T04:03:46.442845Z",
     "start_time": "2022-07-19T04:03:46.228818Z"
    },
    "colab": {
     "base_uri": "https://localhost:8080/",
     "height": 282
    },
    "id": "P_7_wVILP_B6",
    "outputId": "1e2b6e9f-95bd-4c72-8d27-a617484ed4a9"
   },
   "outputs": [],
   "source": []
  },
  {
   "cell_type": "markdown",
   "metadata": {
    "id": "w5sPazm6P_B7"
   },
   "source": [
    "### Histogram"
   ]
  },
  {
   "cell_type": "code",
   "execution_count": null,
   "metadata": {
    "ExecuteTime": {
     "end_time": "2022-07-19T04:03:46.589396Z",
     "start_time": "2022-07-19T04:03:46.444651Z"
    },
    "colab": {
     "base_uri": "https://localhost:8080/",
     "height": 351
    },
    "id": "0Rj3jOJ5P_B7",
    "outputId": "1887251d-7a7e-40cc-a1ca-8649e55ec37a"
   },
   "outputs": [],
   "source": []
  },
  {
   "cell_type": "code",
   "execution_count": null,
   "metadata": {
    "ExecuteTime": {
     "end_time": "2022-07-19T04:03:47.177196Z",
     "start_time": "2022-07-19T04:03:46.592424Z"
    },
    "colab": {
     "base_uri": "https://localhost:8080/",
     "height": 351
    },
    "id": "mJI6_rM4P_B7",
    "outputId": "3257c432-2fbb-42ab-dc01-0a2ed1677e4d"
   },
   "outputs": [],
   "source": []
  },
  {
   "cell_type": "markdown",
   "metadata": {
    "id": "sDlGERP4P_B8"
   },
   "source": [
    "### Bar chart"
   ]
  },
  {
   "cell_type": "code",
   "execution_count": null,
   "metadata": {
    "ExecuteTime": {
     "end_time": "2022-07-19T04:03:47.391946Z",
     "start_time": "2022-07-19T04:03:47.178943Z"
    },
    "colab": {
     "base_uri": "https://localhost:8080/",
     "height": 351
    },
    "id": "UoT60rN0P_B8",
    "outputId": "a2b604a4-4f91-474e-ed31-7e5a5c55e950"
   },
   "outputs": [],
   "source": []
  },
  {
   "cell_type": "markdown",
   "metadata": {
    "id": "157Cv-c1P_B-"
   },
   "source": [
    "## More advanced graphs "
   ]
  },
  {
   "cell_type": "markdown",
   "metadata": {
    "id": "Y_3sV01BP_B-"
   },
   "source": [
    "Now that you have a basic understanding about the syntax of Matplotlib, Pandas Visualization and Seaborn I want to show you a few other graph types useful for data science and machine learning. For most of them Seaborn is the go to library because you can use it to make complicated graphs with almost no lines of code."
   ]
  },
  {
   "cell_type": "markdown",
   "metadata": {
    "id": "JT9xbTO_P_B_"
   },
   "source": [
    "### Box Plots"
   ]
  },
  {
   "cell_type": "markdown",
   "metadata": {
    "id": "k17fDdUaP_B_"
   },
   "source": [
    "Box Plots are useful to show distributions with respect to categories."
   ]
  },
  {
   "cell_type": "code",
   "execution_count": null,
   "metadata": {
    "ExecuteTime": {
     "end_time": "2022-07-19T04:03:47.577530Z",
     "start_time": "2022-07-19T04:03:47.396990Z"
    },
    "colab": {
     "base_uri": "https://localhost:8080/",
     "height": 351
    },
    "id": "kCO9R8FpP_B_",
    "outputId": "dd58a70c-ec14-4798-d7ae-816b42edf01c"
   },
   "outputs": [],
   "source": []
  },
  {
   "cell_type": "markdown",
   "metadata": {
    "id": "EkbDvOZSP_CA"
   },
   "source": [
    "## Pie Plots"
   ]
  },
  {
   "cell_type": "code",
   "execution_count": null,
   "metadata": {
    "ExecuteTime": {
     "end_time": "2022-07-19T04:03:47.651963Z",
     "start_time": "2022-07-19T04:03:47.581902Z"
    },
    "colab": {
     "base_uri": "https://localhost:8080/",
     "height": 265
    },
    "id": "-RBNBrwXP_CB",
    "outputId": "82c5fa02-aad7-408d-a968-e537ec1428a9"
   },
   "outputs": [],
   "source": []
  },
  {
   "cell_type": "markdown",
   "metadata": {
    "id": "wI60jHqcP_CB"
   },
   "source": [
    "### Heatmap"
   ]
  },
  {
   "cell_type": "markdown",
   "metadata": {
    "id": "XzM2qoTMP_CB"
   },
   "source": [
    "Heatmaps are perfect for exploring the correlation of the features"
   ]
  },
  {
   "cell_type": "code",
   "execution_count": null,
   "metadata": {
    "ExecuteTime": {
     "end_time": "2022-07-19T04:03:47.803816Z",
     "start_time": "2022-07-19T04:03:47.654408Z"
    },
    "colab": {
     "base_uri": "https://localhost:8080/",
     "height": 269
    },
    "id": "Pncv-rlBP_CC",
    "outputId": "33d75083-38e2-434e-bd2c-9447ec3961b8"
   },
   "outputs": [],
   "source": []
  },
  {
   "cell_type": "code",
   "execution_count": null,
   "metadata": {
    "ExecuteTime": {
     "end_time": "2022-07-19T04:03:47.916362Z",
     "start_time": "2022-07-19T04:03:47.807347Z"
    },
    "colab": {
     "base_uri": "https://localhost:8080/",
     "height": 325
    },
    "id": "UZ5dGFaHP_CD",
    "outputId": "eb511ac5-8ad9-4aca-bac8-f83bd50a23fb"
   },
   "outputs": [],
   "source": [
    "# get correlation matrix\n",
    "corr = iris.corr()\n",
    "fig, ax = plt.subplots()\n",
    "# create heatmap\n",
    "im = ax.imshow(corr.values)\n",
    "\n",
    "# set labels\n",
    "ax.set_xticks(np.arange(len(corr.columns)))\n",
    "ax.set_yticks(np.arange(len(corr.columns)))\n",
    "ax.set_xticklabels(corr.columns)\n",
    "ax.set_yticklabels(corr.columns)\n",
    "\n",
    "# Rotate the tick labels and set their alignment.\n",
    "plt.setp(ax.get_xticklabels(), rotation=45, ha=\"right\",\n",
    "         rotation_mode=\"anchor\")"
   ]
  },
  {
   "cell_type": "code",
   "execution_count": null,
   "metadata": {
    "ExecuteTime": {
     "end_time": "2022-07-19T04:03:48.042852Z",
     "start_time": "2022-07-19T04:03:47.920452Z"
    },
    "colab": {
     "base_uri": "https://localhost:8080/",
     "height": 308
    },
    "id": "a1sGvBsuP_CD",
    "outputId": "d4ac1447-dc84-4254-ed92-c8693eab8362"
   },
   "outputs": [],
   "source": [
    "# get correlation matrix\n",
    "corr = iris.corr()\n",
    "fig, ax = plt.subplots()\n",
    "# create heatmap\n",
    "im = ax.imshow(corr.values)\n",
    "\n",
    "# set labels\n",
    "ax.set_xticks(np.arange(len(corr.columns)))\n",
    "ax.set_yticks(np.arange(len(corr.columns)))\n",
    "ax.set_xticklabels(corr.columns)\n",
    "ax.set_yticklabels(corr.columns)\n",
    "\n",
    "# Rotate the tick labels and set their alignment.\n",
    "plt.setp(ax.get_xticklabels(), rotation=45, ha=\"right\",\n",
    "         rotation_mode=\"anchor\")\n",
    "\n",
    "# Loop over data dimensions and create text annotations.\n",
    "for i in range(len(corr.columns)):\n",
    "    for j in range(len(corr.columns)):\n",
    "        text = ax.text(j, i, np.around(corr.iloc[i, j], decimals=2),\n",
    "                       ha=\"center\", va=\"center\", color=\"black\")"
   ]
  },
  {
   "cell_type": "code",
   "execution_count": null,
   "metadata": {
    "ExecuteTime": {
     "end_time": "2022-07-19T04:03:48.279287Z",
     "start_time": "2022-07-19T04:03:48.045088Z"
    },
    "colab": {
     "base_uri": "https://localhost:8080/",
     "height": 287
    },
    "id": "Jpu9G0XRP_CE",
    "outputId": "221597de-c751-4854-84e9-59f6b5b66398"
   },
   "outputs": [],
   "source": []
  },
  {
   "cell_type": "markdown",
   "metadata": {
    "id": "4MrESkBWP_CE"
   },
   "source": [
    "We can make plots bigger by using the figsize parameter from matplotlib. To use it with Seaborn we need to pass the seaborn function we are using the matplotlib axis as an argument."
   ]
  },
  {
   "cell_type": "code",
   "execution_count": null,
   "metadata": {
    "ExecuteTime": {
     "end_time": "2022-07-19T04:03:48.543708Z",
     "start_time": "2022-07-19T04:03:48.286818Z"
    },
    "colab": {
     "base_uri": "https://localhost:8080/",
     "height": 613
    },
    "id": "X-G3oSNOP_CE",
    "outputId": "47f0e486-2c89-466c-bb69-5cce39a7239c"
   },
   "outputs": [],
   "source": []
  },
  {
   "cell_type": "markdown",
   "metadata": {
    "id": "8XjXwpRnP_CE"
   },
   "source": [
    "## Faceting"
   ]
  },
  {
   "cell_type": "markdown",
   "metadata": {
    "id": "J13H6hiXP_CE"
   },
   "source": [
    "Faceting is the act of breaking data variables up across multiple subplots, and combining those subplots into a single figure."
   ]
  },
  {
   "cell_type": "markdown",
   "metadata": {
    "id": "i0PssYwFP_CF"
   },
   "source": [
    "### FacetGrid"
   ]
  },
  {
   "cell_type": "code",
   "execution_count": null,
   "metadata": {
    "ExecuteTime": {
     "end_time": "2022-07-19T04:03:49.219072Z",
     "start_time": "2022-07-19T04:03:48.546405Z"
    },
    "colab": {
     "base_uri": "https://localhost:8080/",
     "height": 225
    },
    "id": "pajKyVTRP_CF",
    "outputId": "a4dc50b2-1904-4d53-e13f-e8d72d743ce3"
   },
   "outputs": [],
   "source": []
  },
  {
   "cell_type": "markdown",
   "metadata": {
    "id": "BfZggdvWP_CF"
   },
   "source": [
    "### Pairplot"
   ]
  },
  {
   "cell_type": "code",
   "execution_count": null,
   "metadata": {
    "ExecuteTime": {
     "end_time": "2022-07-19T04:03:54.325340Z",
     "start_time": "2022-07-19T04:03:49.221480Z"
    },
    "colab": {
     "base_uri": "https://localhost:8080/",
     "height": 743
    },
    "id": "CPYgtbHgP_CG",
    "outputId": "9ecd6e53-8719-4fa7-ea41-403bf66d6146"
   },
   "outputs": [],
   "source": []
  },
  {
   "cell_type": "code",
   "execution_count": null,
   "metadata": {
    "ExecuteTime": {
     "end_time": "2022-07-19T04:03:55.322638Z",
     "start_time": "2022-07-19T04:03:54.326880Z"
    },
    "colab": {
     "base_uri": "https://localhost:8080/",
     "height": 745
    },
    "id": "gDNP37FXP_CG",
    "outputId": "dfd86c5b-6ae3-4811-db42-583cd74177c0"
   },
   "outputs": [],
   "source": [
    "from pandas.plotting import scatter_matrix\n",
    "\n",
    "fig, ax = plt.subplots(figsize=(12,12))\n",
    "scatter_matrix(iris, alpha=1, ax=ax);"
   ]
  }
 ],
 "metadata": {
  "colab": {
   "collapsed_sections": [
    "7FJJ8ocMP_Bm",
    "IbdmSxQHP_Br",
    "0x8SgMOtP_Bt",
    "gf_qqb8pP_Bv",
    "7jnT9i4CP_Bw",
    "q4GyjY5OP_By",
    "jzNUVRSZP_Bz",
    "1je_Uie5P_B0",
    "5S_h_AmdP_B3",
    "cvv0cdtZP_B6",
    "w5sPazm6P_B7",
    "sDlGERP4P_B8",
    "JT9xbTO_P_B_",
    "wI60jHqcP_CB",
    "i0PssYwFP_CF",
    "BfZggdvWP_CF"
   ],
   "name": "Introduction to Data Visualization in Python.ipynb",
   "provenance": [],
   "toc_visible": true
  },
  "kernelspec": {
   "display_name": "Python 3",
   "language": "python",
   "name": "python3"
  },
  "language_info": {
   "codemirror_mode": {
    "name": "ipython",
    "version": 3
   },
   "file_extension": ".py",
   "mimetype": "text/x-python",
   "name": "python",
   "nbconvert_exporter": "python",
   "pygments_lexer": "ipython3",
   "version": "3.8.3"
  }
 },
 "nbformat": 4,
 "nbformat_minor": 1
}
